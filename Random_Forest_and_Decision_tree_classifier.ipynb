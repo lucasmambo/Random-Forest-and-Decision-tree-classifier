{
  "nbformat": 4,
  "nbformat_minor": 0,
  "metadata": {
    "colab": {
      "provenance": []
    },
    "kernelspec": {
      "name": "python3",
      "display_name": "Python 3"
    },
    "language_info": {
      "name": "python"
    }
  },
  "cells": [
    {
      "cell_type": "code",
      "execution_count": 1,
      "metadata": {
        "colab": {
          "base_uri": "https://localhost:8080/"
        },
        "id": "JF4znRa6zv6s",
        "outputId": "7f091e82-c5c6-42e6-f852-f2f215ed39b1"
      },
      "outputs": [
        {
          "output_type": "stream",
          "name": "stdout",
          "text": [
            "Mounted at /content/drive\n"
          ]
        }
      ],
      "source": [
        "from google.colab import drive\n",
        "drive.mount('/content/drive')"
      ]
    },
    {
      "cell_type": "code",
      "source": [
        "import pandas as pd\n",
        "from sklearn.model_selection import train_test_split\n",
        "from sklearn.tree import DecisionTreeRegressor\n",
        "from sklearn.ensemble import RandomForestRegressor\n",
        "from sklearn.metrics import mean_squared_error, mean_absolute_error\n",
        "import numpy as np\n",
        "\n",
        "# Load the dataset\n",
        "file_path = \"/content/drive/MyDrive/Real estate.csv\"\n",
        "real_estate_data = pd.read_csv(file_path)\n",
        "\n",
        "# Prepare the data for training\n",
        "X = real_estate_data.drop(columns=['Y house price of unit area'])  # Features\n",
        "y = real_estate_data['Y house price of unit area']  # Target variable\n",
        "\n",
        "# Split the data into training and testing sets\n",
        "X_train, X_test, y_train, y_test = train_test_split(X, y, test_size=0.2, random_state=42)\n",
        "\n",
        "# Train the decision tree model\n",
        "decision_tree = DecisionTreeRegressor(random_state=42)\n",
        "decision_tree.fit(X_train, y_train)\n",
        "\n",
        "# Make predictions on the test set using decision tree\n",
        "y_pred_dt = decision_tree.predict(X_test)\n",
        "\n",
        "# Evaluate the decision tree model\n",
        "mse_dt = mean_squared_error(y_test, y_pred_dt)\n",
        "mae_dt = mean_absolute_error(y_test, y_pred_dt)\n",
        "rmse_dt = np.sqrt(mse_dt)\n",
        "\n",
        "print(\"Decision Tree Metrics:\")\n",
        "print(\"Mean Squared Error (MSE):\", mse_dt)\n",
        "print(\"Mean Absolute Error (MAE):\", mae_dt)\n",
        "print(\"Root Mean Squared Error (RMSE):\", rmse_dt)\n",
        "print()\n",
        "\n",
        "# Train the random forest model\n",
        "random_forest = RandomForestRegressor(random_state=42)\n",
        "random_forest.fit(X_train, y_train)\n",
        "\n",
        "# Make predictions on the test set using random forest\n",
        "y_pred_rf = random_forest.predict(X_test)\n",
        "\n",
        "# Evaluate the random forest model\n",
        "mse_rf = mean_squared_error(y_test, y_pred_rf)\n",
        "mae_rf = mean_absolute_error(y_test, y_pred_rf)\n",
        "rmse_rf = np.sqrt(mse_rf)\n",
        "\n",
        "print(\"Random Forest Metrics:\")\n",
        "print(\"Mean Squared Error (MSE):\", mse_rf)\n",
        "print(\"Mean Absolute Error (MAE):\", mae_rf)\n",
        "print(\"Root Mean Squared Error (RMSE):\", rmse_rf)\n",
        "\n",
        "# Compare the performance of the models\n",
        "if mse_rf < mse_dt and mae_rf < mae_dt and rmse_rf < rmse_dt:\n",
        "    print(\"\\nRandom Forest is preferred for analyzing the data.\")\n",
        "elif mse_rf > mse_dt and mae_rf > mae_dt and rmse_rf > rmse_dt:\n",
        "    print(\"\\nDecision Tree is preferred for analyzing the data.\")\n",
        "else:\n",
        "    print(\"\\nBoth models perform similarly. Further analysis may be needed.\")"
      ],
      "metadata": {
        "colab": {
          "base_uri": "https://localhost:8080/"
        },
        "id": "64Gvn9at0CoX",
        "outputId": "21766925-91c0-449a-94a7-9826e0c22f7e"
      },
      "execution_count": 3,
      "outputs": [
        {
          "output_type": "stream",
          "name": "stdout",
          "text": [
            "Decision Tree Metrics:\n",
            "Mean Squared Error (MSE): 53.89337349397591\n",
            "Mean Absolute Error (MAE): 5.360240963855421\n",
            "Root Mean Squared Error (RMSE): 7.341210628634483\n",
            "\n",
            "Random Forest Metrics:\n",
            "Mean Squared Error (MSE): 31.859230951807227\n",
            "Mean Absolute Error (MAE): 3.8668554216867457\n",
            "Root Mean Squared Error (RMSE): 5.644398192173123\n",
            "\n",
            "Random Forest is preferred for analyzing the data.\n"
          ]
        }
      ]
    }
  ]
}